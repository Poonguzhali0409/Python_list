{
  "nbformat": 4,
  "nbformat_minor": 0,
  "metadata": {
    "colab": {
      "name": "list.ipynb",
      "provenance": [],
      "authorship_tag": "ABX9TyOE8AfhpYP8iuFjIW5Vsp0r",
      "include_colab_link": true
    },
    "kernelspec": {
      "name": "python3",
      "display_name": "Python 3"
    },
    "language_info": {
      "name": "python"
    }
  },
  "cells": [
    {
      "cell_type": "markdown",
      "metadata": {
        "id": "view-in-github",
        "colab_type": "text"
      },
      "source": [
        "<a href=\"https://colab.research.google.com/github/Poonguzhali0409/Python_list/blob/main/list.ipynb\" target=\"_parent\"><img src=\"https://colab.research.google.com/assets/colab-badge.svg\" alt=\"Open In Colab\"/></a>"
      ]
    },
    {
      "cell_type": "code",
      "execution_count": 1,
      "metadata": {
        "colab": {
          "base_uri": "https://localhost:8080/"
        },
        "id": "A4tLyEVjjBHj",
        "outputId": "ff30996b-c356-467e-eede-d2465d054b4e"
      },
      "outputs": [
        {
          "output_type": "stream",
          "name": "stdout",
          "text": [
            "[1, 4, 9, 6.25, 12.25]\n",
            "1\n",
            "4\n",
            "9\n",
            "6.25\n",
            "12.25\n"
          ]
        }
      ],
      "source": [
        "#list comprehension\n",
        "#a = expression (output)\n",
        "#for a in list2 = for loop\n",
        "#if a<5 = if loop\n",
        "\n",
        "list2=[1,2,3,6,5,2.5,3.5]\n",
        "dum = [a**2 for a in list2 if a<5]\n",
        "print(dum)\n",
        "\n",
        "#to convert the list to single output\n",
        "\n",
        "for i in dum :\n",
        "    print (i)"
      ]
    }
  ]
}